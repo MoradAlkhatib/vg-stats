{
 "cells": [
  {
   "cell_type": "code",
   "execution_count": 76,
   "metadata": {},
   "outputs": [
    {
     "name": "stderr",
     "output_type": "stream",
     "text": [
      "/home/muradalkhatib/python/vg-stats/.venv/lib/python3.9/site-packages/IPython/core/interactiveshell.py:3444: FutureWarning: The error_bad_lines argument has been deprecated and will be removed in a future version.\n",
      "\n",
      "\n",
      "  exec(code_obj, self.user_global_ns, self.user_ns)\n",
      "b'Skipping line 50794: expected 12 fields, saw 20\\n'\n"
     ]
    }
   ],
   "source": [
    "import pandas as pd\n",
    "import numpy as np\n",
    "import dateutil\n",
    "\n",
    "\n",
    "station = pd.read_csv('station.csv')\n",
    "trip = pd.read_csv('trip.csv',error_bad_lines = False)\n",
    "weather = pd.read_csv('weather.csv')"
   ]
  },
  {
   "cell_type": "code",
   "execution_count": 77,
   "metadata": {},
   "outputs": [
    {
     "data": {
      "text/html": [
       "<div>\n",
       "<style scoped>\n",
       "    .dataframe tbody tr th:only-of-type {\n",
       "        vertical-align: middle;\n",
       "    }\n",
       "\n",
       "    .dataframe tbody tr th {\n",
       "        vertical-align: top;\n",
       "    }\n",
       "\n",
       "    .dataframe thead th {\n",
       "        text-align: right;\n",
       "    }\n",
       "</style>\n",
       "<table border=\"1\" class=\"dataframe\">\n",
       "  <thead>\n",
       "    <tr style=\"text-align: right;\">\n",
       "      <th></th>\n",
       "      <th>station_id</th>\n",
       "      <th>name</th>\n",
       "      <th>lat</th>\n",
       "      <th>long</th>\n",
       "      <th>install_date</th>\n",
       "      <th>install_dockcount</th>\n",
       "      <th>modification_date</th>\n",
       "      <th>current_dockcount</th>\n",
       "      <th>decommission_date</th>\n",
       "    </tr>\n",
       "  </thead>\n",
       "  <tbody>\n",
       "    <tr>\n",
       "      <th>0</th>\n",
       "      <td>BT-01</td>\n",
       "      <td>3rd Ave &amp; Broad St</td>\n",
       "      <td>47.618418</td>\n",
       "      <td>-122.350964</td>\n",
       "      <td>10/13/2014</td>\n",
       "      <td>18</td>\n",
       "      <td>NaN</td>\n",
       "      <td>18</td>\n",
       "      <td>NaN</td>\n",
       "    </tr>\n",
       "    <tr>\n",
       "      <th>1</th>\n",
       "      <td>BT-03</td>\n",
       "      <td>2nd Ave &amp; Vine St</td>\n",
       "      <td>47.615829</td>\n",
       "      <td>-122.348564</td>\n",
       "      <td>10/13/2014</td>\n",
       "      <td>16</td>\n",
       "      <td>NaN</td>\n",
       "      <td>16</td>\n",
       "      <td>NaN</td>\n",
       "    </tr>\n",
       "    <tr>\n",
       "      <th>2</th>\n",
       "      <td>BT-04</td>\n",
       "      <td>6th Ave &amp; Blanchard St</td>\n",
       "      <td>47.616094</td>\n",
       "      <td>-122.341102</td>\n",
       "      <td>10/13/2014</td>\n",
       "      <td>16</td>\n",
       "      <td>NaN</td>\n",
       "      <td>16</td>\n",
       "      <td>NaN</td>\n",
       "    </tr>\n",
       "    <tr>\n",
       "      <th>3</th>\n",
       "      <td>BT-05</td>\n",
       "      <td>2nd Ave &amp; Blanchard St</td>\n",
       "      <td>47.613110</td>\n",
       "      <td>-122.344208</td>\n",
       "      <td>10/13/2014</td>\n",
       "      <td>14</td>\n",
       "      <td>NaN</td>\n",
       "      <td>14</td>\n",
       "      <td>NaN</td>\n",
       "    </tr>\n",
       "    <tr>\n",
       "      <th>4</th>\n",
       "      <td>CBD-03</td>\n",
       "      <td>7th Ave &amp; Union St</td>\n",
       "      <td>47.610731</td>\n",
       "      <td>-122.332447</td>\n",
       "      <td>10/13/2014</td>\n",
       "      <td>20</td>\n",
       "      <td>NaN</td>\n",
       "      <td>20</td>\n",
       "      <td>NaN</td>\n",
       "    </tr>\n",
       "    <tr>\n",
       "      <th>5</th>\n",
       "      <td>CBD-04</td>\n",
       "      <td>Union St &amp; 4th Ave</td>\n",
       "      <td>47.609221</td>\n",
       "      <td>-122.335596</td>\n",
       "      <td>7/27/2015</td>\n",
       "      <td>18</td>\n",
       "      <td>NaN</td>\n",
       "      <td>18</td>\n",
       "      <td>NaN</td>\n",
       "    </tr>\n",
       "    <tr>\n",
       "      <th>6</th>\n",
       "      <td>CBD-05</td>\n",
       "      <td>1st Ave &amp; Marion St</td>\n",
       "      <td>47.604058</td>\n",
       "      <td>-122.335800</td>\n",
       "      <td>10/13/2014</td>\n",
       "      <td>20</td>\n",
       "      <td>NaN</td>\n",
       "      <td>20</td>\n",
       "      <td>NaN</td>\n",
       "    </tr>\n",
       "    <tr>\n",
       "      <th>7</th>\n",
       "      <td>CBD-06</td>\n",
       "      <td>2nd Ave &amp; Spring St</td>\n",
       "      <td>47.605950</td>\n",
       "      <td>-122.335768</td>\n",
       "      <td>10/13/2014</td>\n",
       "      <td>20</td>\n",
       "      <td>11/9/2015</td>\n",
       "      <td>18</td>\n",
       "      <td>NaN</td>\n",
       "    </tr>\n",
       "    <tr>\n",
       "      <th>8</th>\n",
       "      <td>CBD-07</td>\n",
       "      <td>City Hall / 4th Ave &amp; James St</td>\n",
       "      <td>47.603509</td>\n",
       "      <td>-122.330409</td>\n",
       "      <td>10/13/2014</td>\n",
       "      <td>20</td>\n",
       "      <td>NaN</td>\n",
       "      <td>20</td>\n",
       "      <td>NaN</td>\n",
       "    </tr>\n",
       "    <tr>\n",
       "      <th>9</th>\n",
       "      <td>CBD-13</td>\n",
       "      <td>2nd Ave &amp; Pine St</td>\n",
       "      <td>47.610185</td>\n",
       "      <td>-122.339641</td>\n",
       "      <td>10/13/2014</td>\n",
       "      <td>18</td>\n",
       "      <td>NaN</td>\n",
       "      <td>18</td>\n",
       "      <td>NaN</td>\n",
       "    </tr>\n",
       "  </tbody>\n",
       "</table>\n",
       "</div>"
      ],
      "text/plain": [
       "  station_id                            name        lat        long  \\\n",
       "0      BT-01              3rd Ave & Broad St  47.618418 -122.350964   \n",
       "1      BT-03               2nd Ave & Vine St  47.615829 -122.348564   \n",
       "2      BT-04          6th Ave & Blanchard St  47.616094 -122.341102   \n",
       "3      BT-05          2nd Ave & Blanchard St  47.613110 -122.344208   \n",
       "4     CBD-03              7th Ave & Union St  47.610731 -122.332447   \n",
       "5     CBD-04              Union St & 4th Ave  47.609221 -122.335596   \n",
       "6     CBD-05             1st Ave & Marion St  47.604058 -122.335800   \n",
       "7     CBD-06             2nd Ave & Spring St  47.605950 -122.335768   \n",
       "8     CBD-07  City Hall / 4th Ave & James St  47.603509 -122.330409   \n",
       "9     CBD-13               2nd Ave & Pine St  47.610185 -122.339641   \n",
       "\n",
       "  install_date  install_dockcount modification_date  current_dockcount  \\\n",
       "0   10/13/2014                 18               NaN                 18   \n",
       "1   10/13/2014                 16               NaN                 16   \n",
       "2   10/13/2014                 16               NaN                 16   \n",
       "3   10/13/2014                 14               NaN                 14   \n",
       "4   10/13/2014                 20               NaN                 20   \n",
       "5    7/27/2015                 18               NaN                 18   \n",
       "6   10/13/2014                 20               NaN                 20   \n",
       "7   10/13/2014                 20         11/9/2015                 18   \n",
       "8   10/13/2014                 20               NaN                 20   \n",
       "9   10/13/2014                 18               NaN                 18   \n",
       "\n",
       "  decommission_date  \n",
       "0               NaN  \n",
       "1               NaN  \n",
       "2               NaN  \n",
       "3               NaN  \n",
       "4               NaN  \n",
       "5               NaN  \n",
       "6               NaN  \n",
       "7               NaN  \n",
       "8               NaN  \n",
       "9               NaN  "
      ]
     },
     "execution_count": 77,
     "metadata": {},
     "output_type": "execute_result"
    }
   ],
   "source": [
    "station.head(10)"
   ]
  },
  {
   "cell_type": "markdown",
   "metadata": {},
   "source": [
    "\n",
    "# What is the average trip duration for a borrowed bicycle?"
   ]
  },
  {
   "cell_type": "code",
   "execution_count": 78,
   "metadata": {},
   "outputs": [],
   "source": [
    "\n",
    "avg_trip= trip['tripduration'].mean()"
   ]
  },
  {
   "cell_type": "markdown",
   "metadata": {},
   "source": [
    "# What’s the most common age of a bicycle-sharer?"
   ]
  },
  {
   "cell_type": "code",
   "execution_count": 79,
   "metadata": {},
   "outputs": [],
   "source": [
    "\n",
    "most_common_years =trip['birthyear'].value_counts().idxmax()\n",
    "most_common_age = 2021-most_common_years\n",
    "most_common_age_bic=int(most_common_age)"
   ]
  },
  {
   "cell_type": "markdown",
   "metadata": {},
   "source": [
    "# Given all the weather data here, find the average precipitation per month, and the median precipitation.?"
   ]
  },
  {
   "cell_type": "code",
   "execution_count": 80,
   "metadata": {},
   "outputs": [
    {
     "name": "stdout",
     "output_type": "stream",
     "text": [
      "Month\n",
      "1     0.143548\n",
      "2     0.168421\n",
      "3     0.156935\n",
      "4     0.051333\n",
      "5     0.012419\n",
      "6     0.030500\n",
      "7     0.012097\n",
      "8     0.018226\n",
      "9     0.041000\n",
      "10    0.189000\n",
      "11    0.187833\n",
      "12    0.236290\n",
      "Name: Precipitation_In, dtype: float64 Month\n",
      "1     0.020\n",
      "2     0.040\n",
      "3     0.025\n",
      "4     0.000\n",
      "5     0.000\n",
      "6     0.000\n",
      "7     0.000\n",
      "8     0.000\n",
      "9     0.000\n",
      "10    0.040\n",
      "11    0.035\n",
      "12    0.100\n",
      "Name: Precipitation_In, dtype: float64\n"
     ]
    }
   ],
   "source": [
    "\n",
    "weather['Month']=pd.DatetimeIndex(weather['Date']).month\n",
    "\n",
    "each_Month=weather.groupby('Month')['Precipitation_In']\n",
    "\n",
    "mean=each_Month.mean()\n",
    "med=each_Month.median()\n",
    "print(mean ,med)"
   ]
  },
  {
   "cell_type": "markdown",
   "metadata": {},
   "source": [
    "# What’s the average number of bikes at a given bike station?"
   ]
  },
  {
   "cell_type": "code",
   "execution_count": 81,
   "metadata": {},
   "outputs": [],
   "source": [
    "\n",
    "decommission_date = station[station['decommission_date'].isnull()]\n",
    "ave_num_bik_station=decommission_date['current_dockcount'].mean()"
   ]
  },
  {
   "cell_type": "markdown",
   "metadata": {},
   "source": [
    "# When a bike station is modified, is it more likely that it’ll lose bikes or gain bikes? How do you know?"
   ]
  },
  {
   "cell_type": "code",
   "execution_count": 82,
   "metadata": {},
   "outputs": [],
   "source": [
    "\n",
    "\n",
    "station_is_modified = station[['modification_date','install_dockcount','current_dockcount']].dropna()\n",
    "station_is_modified_x=station_is_modified['current_dockcount'].sum() - station_is_modified['install_dockcount'].sum()"
   ]
  },
  {
   "cell_type": "markdown",
   "metadata": {},
   "source": [
    "# What the Numbers of bikes in all stations?"
   ]
  },
  {
   "cell_type": "code",
   "execution_count": 83,
   "metadata": {},
   "outputs": [],
   "source": [
    "all_station=station_is_modified['current_dockcount'].sum()"
   ]
  },
  {
   "cell_type": "markdown",
   "metadata": {},
   "source": [
    "# What is the maximum number bikes in all stations?"
   ]
  },
  {
   "cell_type": "code",
   "execution_count": 84,
   "metadata": {},
   "outputs": [],
   "source": [
    "max_num_bik=station['current_dockcount'].max()"
   ]
  },
  {
   "cell_type": "markdown",
   "metadata": {},
   "source": [
    "# what is the max Humidity in days ?"
   ]
  },
  {
   "cell_type": "code",
   "execution_count": 85,
   "metadata": {},
   "outputs": [],
   "source": [
    "max_hum=weather['Max_Humidity'].max()"
   ]
  },
  {
   "cell_type": "markdown",
   "metadata": {},
   "source": [
    "# Tests"
   ]
  },
  {
   "cell_type": "code",
   "execution_count": 86,
   "metadata": {},
   "outputs": [
    {
     "name": "stdout",
     "output_type": "stream",
     "text": [
      "Success!!!\n"
     ]
    }
   ],
   "source": [
    "def assert_equal(actual,expected):\n",
    "    assert actual == expected, f\"Expected {expected} but got {actual}\"\n",
    "def test():\n",
    "    assert_equal(avg_trip, 1178.2956753399776)\n",
    "    assert_equal(most_common_age_bic, 34)\n",
    "    assert_equal(mean.iloc[0],0.1435483870967742 )\n",
    "    assert_equal(ave_num_bik_station, 17.74074074074074)\n",
    "    assert_equal(station_is_modified_x, -64)\n",
    "    assert_equal(all_station, 234)\n",
    "    assert_equal(max_num_bik, 26)\n",
    "    assert_equal(max_hum, 100)\n",
    "    \n",
    "\n",
    "    print(\"Success!!!\")\n",
    "\n",
    "test()"
   ]
  }
 ],
 "metadata": {
  "interpreter": {
   "hash": "f5daee1345a72f6bc90cc8f8bea82fe2ebd5a32a3d738329cd15c29a39cf2a0d"
  },
  "kernelspec": {
   "display_name": "Python 3.9.5 64-bit ('.venv': poetry)",
   "name": "python3"
  },
  "language_info": {
   "codemirror_mode": {
    "name": "ipython",
    "version": 3
   },
   "file_extension": ".py",
   "mimetype": "text/x-python",
   "name": "python",
   "nbconvert_exporter": "python",
   "pygments_lexer": "ipython3",
   "version": "3.9.5"
  },
  "orig_nbformat": 4
 },
 "nbformat": 4,
 "nbformat_minor": 2
}
