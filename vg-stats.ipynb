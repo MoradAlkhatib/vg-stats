{
 "cells": [
  {
   "cell_type": "code",
   "execution_count": 40,
   "metadata": {},
   "outputs": [
    {
     "name": "stdout",
     "output_type": "stream",
     "text": [
      "<class 'pandas.core.frame.DataFrame'>\n",
      "RangeIndex: 16598 entries, 0 to 16597\n",
      "Data columns (total 11 columns):\n",
      " #   Column        Non-Null Count  Dtype  \n",
      "---  ------        --------------  -----  \n",
      " 0   Rank          16598 non-null  int64  \n",
      " 1   Name          16598 non-null  object \n",
      " 2   Platform      16598 non-null  object \n",
      " 3   Year          16327 non-null  float64\n",
      " 4   Genre         16598 non-null  object \n",
      " 5   Publisher     16540 non-null  object \n",
      " 6   NA_Sales      16598 non-null  float64\n",
      " 7   EU_Sales      16598 non-null  float64\n",
      " 8   JP_Sales      16598 non-null  float64\n",
      " 9   Other_Sales   16598 non-null  float64\n",
      " 10  Global_Sales  16598 non-null  float64\n",
      "dtypes: float64(6), int64(1), object(4)\n",
      "memory usage: 1.4+ MB\n"
     ]
    }
   ],
   "source": [
    "import pandas as pd\n",
    "df = pd.read_csv('./vgsales.csv')\n",
    "df.info()\n",
    "\n",
    "\n"
   ]
  },
  {
   "cell_type": "markdown",
   "metadata": {},
   "source": [
    "# Which company is the most common video game publisher?"
   ]
  },
  {
   "cell_type": "code",
   "execution_count": 41,
   "metadata": {},
   "outputs": [
    {
     "data": {
      "text/plain": [
       "0    Electronic Arts\n",
       "dtype: object"
      ]
     },
     "execution_count": 41,
     "metadata": {},
     "output_type": "execute_result"
    }
   ],
   "source": [
    "\n",
    "most_common_publisher = df['Publisher'].mode()\n",
    "most_common_publisher"
   ]
  },
  {
   "cell_type": "markdown",
   "metadata": {},
   "source": [
    "# What’s the most common platform?"
   ]
  },
  {
   "cell_type": "code",
   "execution_count": 42,
   "metadata": {},
   "outputs": [
    {
     "data": {
      "text/plain": [
       "0    DS\n",
       "dtype: object"
      ]
     },
     "execution_count": 42,
     "metadata": {},
     "output_type": "execute_result"
    }
   ],
   "source": [
    "\n",
    "most_common_platform=df['Platform'].mode()\n",
    "most_common_platform"
   ]
  },
  {
   "cell_type": "markdown",
   "metadata": {},
   "source": [
    "# What about the most common genre?"
   ]
  },
  {
   "cell_type": "code",
   "execution_count": 43,
   "metadata": {},
   "outputs": [
    {
     "data": {
      "text/plain": [
       "0    Action\n",
       "dtype: object"
      ]
     },
     "execution_count": 43,
     "metadata": {},
     "output_type": "execute_result"
    }
   ],
   "source": [
    "\n",
    "most_common_genre=df['Genre'].mode()\n",
    "most_common_genre"
   ]
  },
  {
   "cell_type": "markdown",
   "metadata": {},
   "source": [
    "# What are the top 20 highest grossing games?"
   ]
  },
  {
   "cell_type": "code",
   "execution_count": 44,
   "metadata": {},
   "outputs": [
    {
     "data": {
      "text/html": [
       "<div>\n",
       "<style scoped>\n",
       "    .dataframe tbody tr th:only-of-type {\n",
       "        vertical-align: middle;\n",
       "    }\n",
       "\n",
       "    .dataframe tbody tr th {\n",
       "        vertical-align: top;\n",
       "    }\n",
       "\n",
       "    .dataframe thead th {\n",
       "        text-align: right;\n",
       "    }\n",
       "</style>\n",
       "<table border=\"1\" class=\"dataframe\">\n",
       "  <thead>\n",
       "    <tr style=\"text-align: right;\">\n",
       "      <th></th>\n",
       "      <th>Name</th>\n",
       "      <th>Global_Sales</th>\n",
       "    </tr>\n",
       "  </thead>\n",
       "  <tbody>\n",
       "    <tr>\n",
       "      <th>0</th>\n",
       "      <td>Wii Sports</td>\n",
       "      <td>82.74</td>\n",
       "    </tr>\n",
       "    <tr>\n",
       "      <th>1</th>\n",
       "      <td>Super Mario Bros.</td>\n",
       "      <td>40.24</td>\n",
       "    </tr>\n",
       "    <tr>\n",
       "      <th>2</th>\n",
       "      <td>Mario Kart Wii</td>\n",
       "      <td>35.82</td>\n",
       "    </tr>\n",
       "    <tr>\n",
       "      <th>3</th>\n",
       "      <td>Wii Sports Resort</td>\n",
       "      <td>33.00</td>\n",
       "    </tr>\n",
       "    <tr>\n",
       "      <th>4</th>\n",
       "      <td>Pokemon Red/Pokemon Blue</td>\n",
       "      <td>31.37</td>\n",
       "    </tr>\n",
       "    <tr>\n",
       "      <th>5</th>\n",
       "      <td>Tetris</td>\n",
       "      <td>30.26</td>\n",
       "    </tr>\n",
       "    <tr>\n",
       "      <th>6</th>\n",
       "      <td>New Super Mario Bros.</td>\n",
       "      <td>30.01</td>\n",
       "    </tr>\n",
       "    <tr>\n",
       "      <th>7</th>\n",
       "      <td>Wii Play</td>\n",
       "      <td>29.02</td>\n",
       "    </tr>\n",
       "    <tr>\n",
       "      <th>8</th>\n",
       "      <td>New Super Mario Bros. Wii</td>\n",
       "      <td>28.62</td>\n",
       "    </tr>\n",
       "    <tr>\n",
       "      <th>9</th>\n",
       "      <td>Duck Hunt</td>\n",
       "      <td>28.31</td>\n",
       "    </tr>\n",
       "    <tr>\n",
       "      <th>10</th>\n",
       "      <td>Nintendogs</td>\n",
       "      <td>24.76</td>\n",
       "    </tr>\n",
       "    <tr>\n",
       "      <th>11</th>\n",
       "      <td>Mario Kart DS</td>\n",
       "      <td>23.42</td>\n",
       "    </tr>\n",
       "    <tr>\n",
       "      <th>12</th>\n",
       "      <td>Pokemon Gold/Pokemon Silver</td>\n",
       "      <td>23.10</td>\n",
       "    </tr>\n",
       "    <tr>\n",
       "      <th>13</th>\n",
       "      <td>Wii Fit</td>\n",
       "      <td>22.72</td>\n",
       "    </tr>\n",
       "    <tr>\n",
       "      <th>14</th>\n",
       "      <td>Wii Fit Plus</td>\n",
       "      <td>22.00</td>\n",
       "    </tr>\n",
       "    <tr>\n",
       "      <th>15</th>\n",
       "      <td>Kinect Adventures!</td>\n",
       "      <td>21.82</td>\n",
       "    </tr>\n",
       "    <tr>\n",
       "      <th>16</th>\n",
       "      <td>Grand Theft Auto V</td>\n",
       "      <td>21.40</td>\n",
       "    </tr>\n",
       "    <tr>\n",
       "      <th>17</th>\n",
       "      <td>Grand Theft Auto: San Andreas</td>\n",
       "      <td>20.81</td>\n",
       "    </tr>\n",
       "    <tr>\n",
       "      <th>18</th>\n",
       "      <td>Super Mario World</td>\n",
       "      <td>20.61</td>\n",
       "    </tr>\n",
       "    <tr>\n",
       "      <th>19</th>\n",
       "      <td>Brain Age: Train Your Brain in Minutes a Day</td>\n",
       "      <td>20.22</td>\n",
       "    </tr>\n",
       "  </tbody>\n",
       "</table>\n",
       "</div>"
      ],
      "text/plain": [
       "                                            Name  Global_Sales\n",
       "0                                     Wii Sports         82.74\n",
       "1                              Super Mario Bros.         40.24\n",
       "2                                 Mario Kart Wii         35.82\n",
       "3                              Wii Sports Resort         33.00\n",
       "4                       Pokemon Red/Pokemon Blue         31.37\n",
       "5                                         Tetris         30.26\n",
       "6                          New Super Mario Bros.         30.01\n",
       "7                                       Wii Play         29.02\n",
       "8                      New Super Mario Bros. Wii         28.62\n",
       "9                                      Duck Hunt         28.31\n",
       "10                                    Nintendogs         24.76\n",
       "11                                 Mario Kart DS         23.42\n",
       "12                   Pokemon Gold/Pokemon Silver         23.10\n",
       "13                                       Wii Fit         22.72\n",
       "14                                  Wii Fit Plus         22.00\n",
       "15                            Kinect Adventures!         21.82\n",
       "16                            Grand Theft Auto V         21.40\n",
       "17                 Grand Theft Auto: San Andreas         20.81\n",
       "18                             Super Mario World         20.61\n",
       "19  Brain Age: Train Your Brain in Minutes a Day         20.22"
      ]
     },
     "execution_count": 44,
     "metadata": {},
     "output_type": "execute_result"
    }
   ],
   "source": [
    "\n",
    "top_twenty_highest_grossing_games=df[['Name','Global_Sales']].sort_values('Global_Sales')[ -1:-21:-1]\n",
    "top_twenty_highest_grossing_games"
   ]
  },
  {
   "cell_type": "markdown",
   "metadata": {},
   "source": [
    "# For North American video game sales, what’s the median?"
   ]
  },
  {
   "cell_type": "code",
   "execution_count": 45,
   "metadata": {},
   "outputs": [
    {
     "data": {
      "text/html": [
       "<div>\n",
       "<style scoped>\n",
       "    .dataframe tbody tr th:only-of-type {\n",
       "        vertical-align: middle;\n",
       "    }\n",
       "\n",
       "    .dataframe tbody tr th {\n",
       "        vertical-align: top;\n",
       "    }\n",
       "\n",
       "    .dataframe thead th {\n",
       "        text-align: right;\n",
       "    }\n",
       "</style>\n",
       "<table border=\"1\" class=\"dataframe\">\n",
       "  <thead>\n",
       "    <tr style=\"text-align: right;\">\n",
       "      <th></th>\n",
       "      <th>Rank</th>\n",
       "      <th>Name</th>\n",
       "      <th>Platform</th>\n",
       "      <th>Year</th>\n",
       "      <th>Genre</th>\n",
       "      <th>Publisher</th>\n",
       "      <th>NA_Sales</th>\n",
       "      <th>EU_Sales</th>\n",
       "      <th>JP_Sales</th>\n",
       "      <th>Other_Sales</th>\n",
       "      <th>Global_Sales</th>\n",
       "    </tr>\n",
       "  </thead>\n",
       "  <tbody>\n",
       "    <tr>\n",
       "      <th>446</th>\n",
       "      <td>447</td>\n",
       "      <td>Dragon Warrior IV</td>\n",
       "      <td>NES</td>\n",
       "      <td>1990.0</td>\n",
       "      <td>Role-Playing</td>\n",
       "      <td>Enix Corporation</td>\n",
       "      <td>0.08</td>\n",
       "      <td>0.00</td>\n",
       "      <td>3.03</td>\n",
       "      <td>0.01</td>\n",
       "      <td>3.12</td>\n",
       "    </tr>\n",
       "    <tr>\n",
       "      <th>497</th>\n",
       "      <td>498</td>\n",
       "      <td>World Soccer Winning Eleven 7 International</td>\n",
       "      <td>PS2</td>\n",
       "      <td>2003.0</td>\n",
       "      <td>Sports</td>\n",
       "      <td>Konami Digital Entertainment</td>\n",
       "      <td>0.08</td>\n",
       "      <td>1.24</td>\n",
       "      <td>1.13</td>\n",
       "      <td>0.45</td>\n",
       "      <td>2.90</td>\n",
       "    </tr>\n",
       "    <tr>\n",
       "      <th>1617</th>\n",
       "      <td>1619</td>\n",
       "      <td>Farming Simulator 2015</td>\n",
       "      <td>PC</td>\n",
       "      <td>2014.0</td>\n",
       "      <td>Simulation</td>\n",
       "      <td>Focus Home Interactive</td>\n",
       "      <td>0.08</td>\n",
       "      <td>1.02</td>\n",
       "      <td>0.00</td>\n",
       "      <td>0.13</td>\n",
       "      <td>1.23</td>\n",
       "    </tr>\n",
       "    <tr>\n",
       "      <th>1926</th>\n",
       "      <td>1928</td>\n",
       "      <td>Pro Evolution Soccer 2008</td>\n",
       "      <td>X360</td>\n",
       "      <td>2007.0</td>\n",
       "      <td>Sports</td>\n",
       "      <td>Konami Digital Entertainment</td>\n",
       "      <td>0.08</td>\n",
       "      <td>0.90</td>\n",
       "      <td>0.04</td>\n",
       "      <td>0.05</td>\n",
       "      <td>1.07</td>\n",
       "    </tr>\n",
       "    <tr>\n",
       "      <th>2067</th>\n",
       "      <td>2069</td>\n",
       "      <td>Winning Eleven: Pro Evolution Soccer 2007 (All...</td>\n",
       "      <td>X360</td>\n",
       "      <td>2006.0</td>\n",
       "      <td>Sports</td>\n",
       "      <td>Konami Digital Entertainment</td>\n",
       "      <td>0.08</td>\n",
       "      <td>0.90</td>\n",
       "      <td>0.02</td>\n",
       "      <td>0.00</td>\n",
       "      <td>1.00</td>\n",
       "    </tr>\n",
       "    <tr>\n",
       "      <th>2373</th>\n",
       "      <td>2375</td>\n",
       "      <td>Phantasy Star Portable 2</td>\n",
       "      <td>PSP</td>\n",
       "      <td>2009.0</td>\n",
       "      <td>Role-Playing</td>\n",
       "      <td>Sega</td>\n",
       "      <td>0.08</td>\n",
       "      <td>0.11</td>\n",
       "      <td>0.62</td>\n",
       "      <td>0.06</td>\n",
       "      <td>0.88</td>\n",
       "    </tr>\n",
       "    <tr>\n",
       "      <th>2579</th>\n",
       "      <td>2581</td>\n",
       "      <td>The Sims 2: Castaway</td>\n",
       "      <td>PSP</td>\n",
       "      <td>2007.0</td>\n",
       "      <td>Simulation</td>\n",
       "      <td>Electronic Arts</td>\n",
       "      <td>0.08</td>\n",
       "      <td>0.46</td>\n",
       "      <td>0.00</td>\n",
       "      <td>0.25</td>\n",
       "      <td>0.80</td>\n",
       "    </tr>\n",
       "    <tr>\n",
       "      <th>3186</th>\n",
       "      <td>3188</td>\n",
       "      <td>SingStar Queen</td>\n",
       "      <td>PS2</td>\n",
       "      <td>2009.0</td>\n",
       "      <td>Misc</td>\n",
       "      <td>Sony Computer Entertainment</td>\n",
       "      <td>0.08</td>\n",
       "      <td>0.12</td>\n",
       "      <td>0.00</td>\n",
       "      <td>0.44</td>\n",
       "      <td>0.63</td>\n",
       "    </tr>\n",
       "    <tr>\n",
       "      <th>3503</th>\n",
       "      <td>3505</td>\n",
       "      <td>Top Spin 3</td>\n",
       "      <td>PS3</td>\n",
       "      <td>2008.0</td>\n",
       "      <td>Action</td>\n",
       "      <td>Take-Two Interactive</td>\n",
       "      <td>0.08</td>\n",
       "      <td>0.37</td>\n",
       "      <td>0.00</td>\n",
       "      <td>0.12</td>\n",
       "      <td>0.57</td>\n",
       "    </tr>\n",
       "    <tr>\n",
       "      <th>3703</th>\n",
       "      <td>3705</td>\n",
       "      <td>Sonic &amp; All-Stars Racing Transformed</td>\n",
       "      <td>PS3</td>\n",
       "      <td>2012.0</td>\n",
       "      <td>Racing</td>\n",
       "      <td>Sega</td>\n",
       "      <td>0.08</td>\n",
       "      <td>0.33</td>\n",
       "      <td>0.01</td>\n",
       "      <td>0.11</td>\n",
       "      <td>0.54</td>\n",
       "    </tr>\n",
       "  </tbody>\n",
       "</table>\n",
       "</div>"
      ],
      "text/plain": [
       "      Rank                                               Name Platform  \\\n",
       "446    447                                  Dragon Warrior IV      NES   \n",
       "497    498        World Soccer Winning Eleven 7 International      PS2   \n",
       "1617  1619                             Farming Simulator 2015       PC   \n",
       "1926  1928                          Pro Evolution Soccer 2008     X360   \n",
       "2067  2069  Winning Eleven: Pro Evolution Soccer 2007 (All...     X360   \n",
       "2373  2375                           Phantasy Star Portable 2      PSP   \n",
       "2579  2581                               The Sims 2: Castaway      PSP   \n",
       "3186  3188                                     SingStar Queen      PS2   \n",
       "3503  3505                                         Top Spin 3      PS3   \n",
       "3703  3705               Sonic & All-Stars Racing Transformed      PS3   \n",
       "\n",
       "        Year         Genre                     Publisher  NA_Sales  EU_Sales  \\\n",
       "446   1990.0  Role-Playing              Enix Corporation      0.08      0.00   \n",
       "497   2003.0        Sports  Konami Digital Entertainment      0.08      1.24   \n",
       "1617  2014.0    Simulation        Focus Home Interactive      0.08      1.02   \n",
       "1926  2007.0        Sports  Konami Digital Entertainment      0.08      0.90   \n",
       "2067  2006.0        Sports  Konami Digital Entertainment      0.08      0.90   \n",
       "2373  2009.0  Role-Playing                          Sega      0.08      0.11   \n",
       "2579  2007.0    Simulation               Electronic Arts      0.08      0.46   \n",
       "3186  2009.0          Misc   Sony Computer Entertainment      0.08      0.12   \n",
       "3503  2008.0        Action          Take-Two Interactive      0.08      0.37   \n",
       "3703  2012.0        Racing                          Sega      0.08      0.33   \n",
       "\n",
       "      JP_Sales  Other_Sales  Global_Sales  \n",
       "446       3.03         0.01          3.12  \n",
       "497       1.13         0.45          2.90  \n",
       "1617      0.00         0.13          1.23  \n",
       "1926      0.04         0.05          1.07  \n",
       "2067      0.02         0.00          1.00  \n",
       "2373      0.62         0.06          0.88  \n",
       "2579      0.00         0.25          0.80  \n",
       "3186      0.00         0.44          0.63  \n",
       "3503      0.00         0.12          0.57  \n",
       "3703      0.01         0.11          0.54  "
      ]
     },
     "execution_count": 45,
     "metadata": {},
     "output_type": "execute_result"
    }
   ],
   "source": [
    "\n",
    "na_median_sales=df['NA_Sales'].median()\n",
    "ten_median_na_seller_names= df.loc[df['NA_Sales']==med].head(10)\n",
    "ten_median_na_seller_names"
   ]
  },
  {
   "cell_type": "markdown",
   "metadata": {},
   "source": [
    "# For the top-selling game of all time, how many standard deviations above/below the mean are its sales for North America?"
   ]
  },
  {
   "cell_type": "code",
   "execution_count": 46,
   "metadata": {},
   "outputs": [
    {
     "data": {
      "text/plain": [
       "0    50.478988\n",
       "Name: NA_Sales, dtype: float64"
      ]
     },
     "execution_count": 46,
     "metadata": {},
     "output_type": "execute_result"
    }
   ],
   "source": [
    "\n",
    "std_data=df['NA_Sales'].std()\n",
    "mean_data=df['NA_Sales'].mean()\n",
    "selling_game=df['NA_Sales'] .head(1)\n",
    "z_score =( (selling_game-mean_data)/std_data)\n",
    "z_score"
   ]
  },
  {
   "cell_type": "markdown",
   "metadata": {},
   "source": [
    "# stander deviation for North America"
   ]
  },
  {
   "cell_type": "code",
   "execution_count": 49,
   "metadata": {},
   "outputs": [
    {
     "data": {
      "text/plain": [
       "0.17"
      ]
     },
     "execution_count": 49,
     "metadata": {},
     "output_type": "execute_result"
    }
   ],
   "source": [
    "std_for_north_america=df['NA_Sales'].std()\n",
    "std_for_north_america\n",
    "\n"
   ]
  },
  {
   "cell_type": "markdown",
   "metadata": {},
   "source": [
    "# For Global_Sales, what’s the median?"
   ]
  },
  {
   "cell_type": "code",
   "execution_count": 50,
   "metadata": {},
   "outputs": [
    {
     "data": {
      "text/plain": [
       "1.5550279355699124"
      ]
     },
     "execution_count": 50,
     "metadata": {},
     "output_type": "execute_result"
    }
   ],
   "source": [
    "std_for_global_sales=df['Global_Sales'].std()\n",
    "std_for_global_sales\n"
   ]
  },
  {
   "cell_type": "markdown",
   "metadata": {},
   "source": [
    "# For Global_Sales, what’s the mean?"
   ]
  },
  {
   "cell_type": "code",
   "execution_count": 51,
   "metadata": {},
   "outputs": [
    {
     "data": {
      "text/plain": [
       "0.5374406555006628"
      ]
     },
     "execution_count": 51,
     "metadata": {},
     "output_type": "execute_result"
    }
   ],
   "source": [
    "mean_data=df['Global_Sales'].mean()\n",
    "mean_data"
   ]
  },
  {
   "cell_type": "markdown",
   "metadata": {},
   "source": [
    "# Tests"
   ]
  },
  {
   "cell_type": "code",
   "execution_count": 1,
   "metadata": {},
   "outputs": [
    {
     "ename": "TypeError",
     "evalue": "assert_equal() missing 2 required positional arguments: 'actual' and 'expected'",
     "output_type": "error",
     "traceback": [
      "\u001b[0;31m---------------------------------------------------------------------------\u001b[0m",
      "\u001b[0;31mTypeError\u001b[0m                                 Traceback (most recent call last)",
      "\u001b[0;32m/tmp/ipykernel_18004/1477562854.py\u001b[0m in \u001b[0;36m<module>\u001b[0;34m\u001b[0m\n\u001b[1;32m     12\u001b[0m     \u001b[0mprint\u001b[0m\u001b[0;34m(\u001b[0m\u001b[0;34m\"Success!!!\"\u001b[0m\u001b[0;34m)\u001b[0m\u001b[0;34m\u001b[0m\u001b[0;34m\u001b[0m\u001b[0m\n\u001b[1;32m     13\u001b[0m \u001b[0;34m\u001b[0m\u001b[0m\n\u001b[0;32m---> 14\u001b[0;31m \u001b[0massert_equal\u001b[0m\u001b[0;34m(\u001b[0m\u001b[0;34m)\u001b[0m\u001b[0;34m\u001b[0m\u001b[0;34m\u001b[0m\u001b[0m\n\u001b[0m",
      "\u001b[0;31mTypeError\u001b[0m: assert_equal() missing 2 required positional arguments: 'actual' and 'expected'"
     ]
    }
   ],
   "source": [
    "def assert_equal(actual,expected):\n",
    "    assert actual == expected, f\"Expected {expected} but got {actual}\"\n",
    "\n",
    "    assert_equal(most_common_publisher, None)\n",
    "    assert_equal(most_common_platform, None)\n",
    "    assert_equal(most_common_genre, None)\n",
    "    assert_equal(top_twenty_highest_grossing_games.iloc[0].Name, None)\n",
    "    assert_equal(top_twenty_highest_grossing_games.iloc[19].Name, None)\n",
    "    assert_equal(na_median_sales, None)\n",
    "    assert_equal(ten_median_na_seller_names, None)\n",
    "\n",
    "    print(\"Success!!!\")\n",
    "\n",
    "assert_equal()"
   ]
  }
 ],
 "metadata": {
  "interpreter": {
   "hash": "f5daee1345a72f6bc90cc8f8bea82fe2ebd5a32a3d738329cd15c29a39cf2a0d"
  },
  "kernelspec": {
   "display_name": "Python 3.9.5 64-bit ('.venv': poetry)",
   "name": "python3"
  },
  "language_info": {
   "codemirror_mode": {
    "name": "ipython",
    "version": 3
   },
   "file_extension": ".py",
   "mimetype": "text/x-python",
   "name": "python",
   "nbconvert_exporter": "python",
   "pygments_lexer": "ipython3",
   "version": "3.9.5"
  }
 },
 "nbformat": 4,
 "nbformat_minor": 4
}
